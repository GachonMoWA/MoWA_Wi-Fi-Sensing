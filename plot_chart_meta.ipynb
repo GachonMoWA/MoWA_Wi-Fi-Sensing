{
 "cells": [
  {
   "cell_type": "code",
   "execution_count": 48,
   "metadata": {
    "collapsed": true
   },
   "outputs": [],
   "source": [
    "import pandas as pd\n",
    "import matplotlib.pyplot as plt\n",
    "import seaborn as sns\n",
    "import numpy as np\n",
    "import re\n",
    "import os\n",
    "\n",
    "plt.rcParams['font.family'] = 'Malgun Gothic'"
   ]
  },
  {
   "cell_type": "code",
   "execution_count": 49,
   "outputs": [],
   "source": [
    "root_Name = \"Result/Plot_data\""
   ],
   "metadata": {
    "collapsed": false
   }
  },
  {
   "cell_type": "code",
   "execution_count": 50,
   "outputs": [],
   "source": [
    "protoNet_folder_path = os.path.join(root_Name, 'few-shot/ReWiS/ProtoNet/')\n",
    "ReWiS_ProtoNet_train = pd.DataFrame()\n",
    "\n",
    "# ProtoNet 폴더 내의 모든 폴더 탐색\n",
    "for dir_name in os.listdir(protoNet_folder_path):\n",
    "    folder_path = os.path.join(protoNet_folder_path, dir_name)\n",
    "\n",
    "    # 폴더인 경우에만 처리\n",
    "    if os.path.isdir(folder_path):\n",
    "        csv_files = [file for file in os.listdir(folder_path) if file.endswith('.csv')]\n",
    "\n",
    "        if csv_files:\n",
    "            file_path = os.path.join(folder_path, csv_files[2])\n",
    "            folder_name = os.path.basename(folder_path)\n",
    "\n",
    "            # print(folder_name)\n",
    "\n",
    "            numbers = re.findall(r'\\d+', folder_name)\n",
    "            numbers = list(map(int, numbers))\n",
    "\n",
    "            exec(f\"{folder_name} = pd.read_csv(file_path)\")\n",
    "\n",
    "            ReWiS_ProtoNet_temp = globals()[folder_name]\n",
    "\n",
    "            # print(ReWiS_ProtoNet_temp)\n",
    "\n",
    "            ReWiS_ProtoNet_temp = ReWiS_ProtoNet_temp[['Epoch', 'Accuracy', 'Loss']]\n",
    "\n",
    "            ReWiS_ProtoNet_temp[\"state\"] = folder_name[:folder_name.find('_test_')]\n",
    "\n",
    "            ReWiS_ProtoNet_temp[\"Train_support\"] = numbers[0]\n",
    "            ReWiS_ProtoNet_temp[\"Train_query\"] = numbers[1]\n",
    "\n",
    "            # print(ReWiS_ProtoNet_temp)\n",
    "            ReWiS_ProtoNet_train = pd.concat([ReWiS_ProtoNet_train, ReWiS_ProtoNet_temp])\n",
    "        else:\n",
    "            print(\"No CSV files found in the folder:\", folder_path)\n"
   ],
   "metadata": {
    "collapsed": false
   }
  },
  {
   "cell_type": "code",
   "execution_count": 51,
   "outputs": [],
   "source": [
    "protoNet_folder_path = os.path.join(root_Name, 'few-shot/ReWiS/ProtoNet/')\n",
    "ReWiS_ProtoNet_test = pd.DataFrame()\n",
    "\n",
    "# ProtoNet 폴더 내의 모든 폴더 탐색\n",
    "for dir_name in os.listdir(protoNet_folder_path):\n",
    "    folder_path = os.path.join(protoNet_folder_path, dir_name)\n",
    "\n",
    "    # 폴더인 경우에만 처리\n",
    "    if os.path.isdir(folder_path):\n",
    "        csv_files = [file for file in os.listdir(folder_path) if file.endswith('.csv')]\n",
    "\n",
    "        if csv_files:\n",
    "            file_path = os.path.join(folder_path, csv_files[1])\n",
    "            folder_name = os.path.basename(folder_path)\n",
    "\n",
    "            # print(folder_name)\n",
    "\n",
    "            numbers = re.findall(r'\\d+', folder_name)\n",
    "            numbers = list(map(int, numbers))\n",
    "\n",
    "            exec(f\"{folder_name} = pd.read_csv(file_path)\")\n",
    "\n",
    "            ReWiS_ProtoNet_temp = globals()[folder_name]\n",
    "\n",
    "            # print(ReWiS_ProtoNet_temp)\n",
    "\n",
    "            ReWiS_ProtoNet_temp = ReWiS_ProtoNet_temp[['Test Accuracy']]\n",
    "\n",
    "            ReWiS_ProtoNet_temp[\"state\"] = folder_name[:folder_name.find('_test_')]\n",
    "\n",
    "            ReWiS_ProtoNet_temp[\"Test_support\"] = numbers[0]\n",
    "            ReWiS_ProtoNet_temp[\"Test_query\"] = numbers[1]\n",
    "\n",
    "            # print(ReWiS_ProtoNet_temp)\n",
    "            ReWiS_ProtoNet_test = pd.concat([ReWiS_ProtoNet_test, ReWiS_ProtoNet_temp])\n",
    "        else:\n",
    "            print(\"No CSV files found in the folder:\", folder_path)"
   ],
   "metadata": {
    "collapsed": false
   }
  },
  {
   "cell_type": "code",
   "execution_count": 52,
   "outputs": [],
   "source": [
    "ViT_folder_path = os.path.join(root_Name, 'few-shot/ReWiS/ViT/')\n",
    "ReWiS_ViT_train = pd.DataFrame()\n",
    "\n",
    "# ProtoNet 폴더 내의 모든 폴더 탐색\n",
    "for dir_name in os.listdir(protoNet_folder_path):\n",
    "    folder_path = os.path.join(protoNet_folder_path, dir_name)\n",
    "\n",
    "    # 폴더인 경우에만 처리\n",
    "    if os.path.isdir(folder_path):\n",
    "        csv_files = [file for file in os.listdir(folder_path) if file.endswith('.csv')]\n",
    "\n",
    "        if csv_files:\n",
    "            file_path = os.path.join(folder_path, csv_files[2])\n",
    "            folder_name = os.path.basename(folder_path)\n",
    "\n",
    "            # print(folder_name)\n",
    "\n",
    "            numbers = re.findall(r'\\d+', folder_name)\n",
    "            numbers = list(map(int, numbers))\n",
    "\n",
    "            exec(f\"{folder_name} = pd.read_csv(file_path)\")\n",
    "\n",
    "            ReWiS_ViT_Temp = globals()[folder_name]\n",
    "\n",
    "            # print(ReWiS_ProtoNet_temp)\n",
    "\n",
    "            ReWiS_ViT_Temp = ReWiS_ViT_Temp[['Epoch', 'Accuracy', 'Loss']]\n",
    "\n",
    "            ReWiS_ViT_Temp[\"state\"] = folder_name[:folder_name.find('_test_')]\n",
    "\n",
    "            ReWiS_ViT_Temp[\"Train_support\"] = numbers[0]\n",
    "            ReWiS_ViT_Temp[\"Train_query\"] = numbers[1]\n",
    "\n",
    "            # print(ReWiS_ProtoNet_temp)\n",
    "            ReWiS_ViT_train = pd.concat([ReWiS_ViT_train, ReWiS_ViT_Temp])\n",
    "        else:\n",
    "            print(\"No CSV files found in the folder:\", folder_path)\n"
   ],
   "metadata": {
    "collapsed": false
   }
  },
  {
   "cell_type": "code",
   "execution_count": 53,
   "outputs": [],
   "source": [
    "protoNet_folder_path = os.path.join(root_Name, 'few-shot/ReWiS/ViT/')\n",
    "ReWiS_ViT_test = pd.DataFrame()\n",
    "\n",
    "# ProtoNet 폴더 내의 모든 폴더 탐색\n",
    "for dir_name in os.listdir(protoNet_folder_path):\n",
    "    folder_path = os.path.join(protoNet_folder_path, dir_name)\n",
    "\n",
    "    # 폴더인 경우에만 처리\n",
    "    if os.path.isdir(folder_path):\n",
    "        csv_files = [file for file in os.listdir(folder_path) if file.endswith('.csv')]\n",
    "\n",
    "        if csv_files:\n",
    "            file_path = os.path.join(folder_path, csv_files[1])\n",
    "            folder_name = os.path.basename(folder_path)\n",
    "\n",
    "            # print(folder_name)\n",
    "\n",
    "            numbers = re.findall(r'\\d+', folder_name)\n",
    "            numbers = list(map(int, numbers))\n",
    "\n",
    "            exec(f\"{folder_name} = pd.read_csv(file_path)\")\n",
    "\n",
    "            ReWiS_ViT_Temp = globals()[folder_name]\n",
    "\n",
    "            # print(ReWiS_ProtoNet_temp)\n",
    "\n",
    "            ReWiS_ViT_Temp = ReWiS_ViT_Temp[['Test Accuracy']]\n",
    "\n",
    "            ReWiS_ViT_Temp[\"state\"] = folder_name[:folder_name.find('_test_')]\n",
    "\n",
    "            ReWiS_ViT_Temp[\"Test_support\"] = numbers[0]\n",
    "            ReWiS_ViT_Temp[\"Test_query\"] = numbers[1]\n",
    "\n",
    "            # print(ReWiS_ProtoNet_temp)\n",
    "            ReWiS_ViT_test = pd.concat([ReWiS_ViT_test, ReWiS_ViT_Temp])\n",
    "        else:\n",
    "            print(\"No CSV files found in the folder:\", folder_path)"
   ],
   "metadata": {
    "collapsed": false
   }
  },
  {
   "cell_type": "code",
   "execution_count": 54,
   "outputs": [
    {
     "data": {
      "text/plain": "    Epoch  Accuracy      Loss               state  Train_support  Train_query\n0       0  0.982625  5.131344  train_s10_train_q4             10            4\n1       1  0.992875  0.214837  train_s10_train_q4             10            4\n2       2  0.994375  0.160991  train_s10_train_q4             10            4\n3       3  0.996625  0.143864  train_s10_train_q4             10            4\n4       4  0.998000  0.025811  train_s10_train_q4             10            4\n..    ...       ...       ...                 ...            ...          ...\n2       2  0.994375  0.095764   train_s8_train_q4              8            4\n3       3  0.996000  0.072379   train_s8_train_q4              8            4\n4       4  0.994250  0.109346   train_s8_train_q4              8            4\n5       5  0.995625  0.080572   train_s8_train_q4              8            4\n6       6  0.998125  0.046786   train_s8_train_q4              8            4\n\n[77 rows x 6 columns]",
      "text/html": "<div>\n<style scoped>\n    .dataframe tbody tr th:only-of-type {\n        vertical-align: middle;\n    }\n\n    .dataframe tbody tr th {\n        vertical-align: top;\n    }\n\n    .dataframe thead th {\n        text-align: right;\n    }\n</style>\n<table border=\"1\" class=\"dataframe\">\n  <thead>\n    <tr style=\"text-align: right;\">\n      <th></th>\n      <th>Epoch</th>\n      <th>Accuracy</th>\n      <th>Loss</th>\n      <th>state</th>\n      <th>Train_support</th>\n      <th>Train_query</th>\n    </tr>\n  </thead>\n  <tbody>\n    <tr>\n      <th>0</th>\n      <td>0</td>\n      <td>0.982625</td>\n      <td>5.131344</td>\n      <td>train_s10_train_q4</td>\n      <td>10</td>\n      <td>4</td>\n    </tr>\n    <tr>\n      <th>1</th>\n      <td>1</td>\n      <td>0.992875</td>\n      <td>0.214837</td>\n      <td>train_s10_train_q4</td>\n      <td>10</td>\n      <td>4</td>\n    </tr>\n    <tr>\n      <th>2</th>\n      <td>2</td>\n      <td>0.994375</td>\n      <td>0.160991</td>\n      <td>train_s10_train_q4</td>\n      <td>10</td>\n      <td>4</td>\n    </tr>\n    <tr>\n      <th>3</th>\n      <td>3</td>\n      <td>0.996625</td>\n      <td>0.143864</td>\n      <td>train_s10_train_q4</td>\n      <td>10</td>\n      <td>4</td>\n    </tr>\n    <tr>\n      <th>4</th>\n      <td>4</td>\n      <td>0.998000</td>\n      <td>0.025811</td>\n      <td>train_s10_train_q4</td>\n      <td>10</td>\n      <td>4</td>\n    </tr>\n    <tr>\n      <th>...</th>\n      <td>...</td>\n      <td>...</td>\n      <td>...</td>\n      <td>...</td>\n      <td>...</td>\n      <td>...</td>\n    </tr>\n    <tr>\n      <th>2</th>\n      <td>2</td>\n      <td>0.994375</td>\n      <td>0.095764</td>\n      <td>train_s8_train_q4</td>\n      <td>8</td>\n      <td>4</td>\n    </tr>\n    <tr>\n      <th>3</th>\n      <td>3</td>\n      <td>0.996000</td>\n      <td>0.072379</td>\n      <td>train_s8_train_q4</td>\n      <td>8</td>\n      <td>4</td>\n    </tr>\n    <tr>\n      <th>4</th>\n      <td>4</td>\n      <td>0.994250</td>\n      <td>0.109346</td>\n      <td>train_s8_train_q4</td>\n      <td>8</td>\n      <td>4</td>\n    </tr>\n    <tr>\n      <th>5</th>\n      <td>5</td>\n      <td>0.995625</td>\n      <td>0.080572</td>\n      <td>train_s8_train_q4</td>\n      <td>8</td>\n      <td>4</td>\n    </tr>\n    <tr>\n      <th>6</th>\n      <td>6</td>\n      <td>0.998125</td>\n      <td>0.046786</td>\n      <td>train_s8_train_q4</td>\n      <td>8</td>\n      <td>4</td>\n    </tr>\n  </tbody>\n</table>\n<p>77 rows × 6 columns</p>\n</div>"
     },
     "execution_count": 54,
     "metadata": {},
     "output_type": "execute_result"
    }
   ],
   "source": [
    "ReWiS_ProtoNet_train"
   ],
   "metadata": {
    "collapsed": false
   }
  },
  {
   "cell_type": "code",
   "execution_count": 55,
   "outputs": [
    {
     "data": {
      "text/plain": "   Test Accuracy               state  Test_support  Test_query\n0         0.7500  train_s10_train_q4            10           4\n0         0.8750  train_s20_train_q4            20           4\n0         1.0000  train_s30_train_q4            30           4\n0         0.9375  train_s4_train_q10             4          10\n0         0.8750  train_s4_train_q20             4          20\n0         0.9375  train_s4_train_q30             4          30\n0         0.7500   train_s4_train_q4             4           4\n0         0.7500   train_s4_train_q6             4           6\n0         0.8750   train_s4_train_q8             4           8\n0         0.7500   train_s6_train_q4             6           4\n0         0.7500   train_s8_train_q4             8           4",
      "text/html": "<div>\n<style scoped>\n    .dataframe tbody tr th:only-of-type {\n        vertical-align: middle;\n    }\n\n    .dataframe tbody tr th {\n        vertical-align: top;\n    }\n\n    .dataframe thead th {\n        text-align: right;\n    }\n</style>\n<table border=\"1\" class=\"dataframe\">\n  <thead>\n    <tr style=\"text-align: right;\">\n      <th></th>\n      <th>Test Accuracy</th>\n      <th>state</th>\n      <th>Test_support</th>\n      <th>Test_query</th>\n    </tr>\n  </thead>\n  <tbody>\n    <tr>\n      <th>0</th>\n      <td>0.7500</td>\n      <td>train_s10_train_q4</td>\n      <td>10</td>\n      <td>4</td>\n    </tr>\n    <tr>\n      <th>0</th>\n      <td>0.8750</td>\n      <td>train_s20_train_q4</td>\n      <td>20</td>\n      <td>4</td>\n    </tr>\n    <tr>\n      <th>0</th>\n      <td>1.0000</td>\n      <td>train_s30_train_q4</td>\n      <td>30</td>\n      <td>4</td>\n    </tr>\n    <tr>\n      <th>0</th>\n      <td>0.9375</td>\n      <td>train_s4_train_q10</td>\n      <td>4</td>\n      <td>10</td>\n    </tr>\n    <tr>\n      <th>0</th>\n      <td>0.8750</td>\n      <td>train_s4_train_q20</td>\n      <td>4</td>\n      <td>20</td>\n    </tr>\n    <tr>\n      <th>0</th>\n      <td>0.9375</td>\n      <td>train_s4_train_q30</td>\n      <td>4</td>\n      <td>30</td>\n    </tr>\n    <tr>\n      <th>0</th>\n      <td>0.7500</td>\n      <td>train_s4_train_q4</td>\n      <td>4</td>\n      <td>4</td>\n    </tr>\n    <tr>\n      <th>0</th>\n      <td>0.7500</td>\n      <td>train_s4_train_q6</td>\n      <td>4</td>\n      <td>6</td>\n    </tr>\n    <tr>\n      <th>0</th>\n      <td>0.8750</td>\n      <td>train_s4_train_q8</td>\n      <td>4</td>\n      <td>8</td>\n    </tr>\n    <tr>\n      <th>0</th>\n      <td>0.7500</td>\n      <td>train_s6_train_q4</td>\n      <td>6</td>\n      <td>4</td>\n    </tr>\n    <tr>\n      <th>0</th>\n      <td>0.7500</td>\n      <td>train_s8_train_q4</td>\n      <td>8</td>\n      <td>4</td>\n    </tr>\n  </tbody>\n</table>\n</div>"
     },
     "execution_count": 55,
     "metadata": {},
     "output_type": "execute_result"
    }
   ],
   "source": [
    "ReWiS_ProtoNet_test"
   ],
   "metadata": {
    "collapsed": false
   }
  },
  {
   "cell_type": "code",
   "execution_count": 56,
   "outputs": [
    {
     "data": {
      "text/plain": "    Epoch  Accuracy      Loss               state  Train_support  Train_query\n0       0  0.982625  5.131344  train_s10_train_q4             10            4\n1       1  0.992875  0.214837  train_s10_train_q4             10            4\n2       2  0.994375  0.160991  train_s10_train_q4             10            4\n3       3  0.996625  0.143864  train_s10_train_q4             10            4\n4       4  0.998000  0.025811  train_s10_train_q4             10            4\n..    ...       ...       ...                 ...            ...          ...\n2       2  0.994375  0.095764   train_s8_train_q4              8            4\n3       3  0.996000  0.072379   train_s8_train_q4              8            4\n4       4  0.994250  0.109346   train_s8_train_q4              8            4\n5       5  0.995625  0.080572   train_s8_train_q4              8            4\n6       6  0.998125  0.046786   train_s8_train_q4              8            4\n\n[77 rows x 6 columns]",
      "text/html": "<div>\n<style scoped>\n    .dataframe tbody tr th:only-of-type {\n        vertical-align: middle;\n    }\n\n    .dataframe tbody tr th {\n        vertical-align: top;\n    }\n\n    .dataframe thead th {\n        text-align: right;\n    }\n</style>\n<table border=\"1\" class=\"dataframe\">\n  <thead>\n    <tr style=\"text-align: right;\">\n      <th></th>\n      <th>Epoch</th>\n      <th>Accuracy</th>\n      <th>Loss</th>\n      <th>state</th>\n      <th>Train_support</th>\n      <th>Train_query</th>\n    </tr>\n  </thead>\n  <tbody>\n    <tr>\n      <th>0</th>\n      <td>0</td>\n      <td>0.982625</td>\n      <td>5.131344</td>\n      <td>train_s10_train_q4</td>\n      <td>10</td>\n      <td>4</td>\n    </tr>\n    <tr>\n      <th>1</th>\n      <td>1</td>\n      <td>0.992875</td>\n      <td>0.214837</td>\n      <td>train_s10_train_q4</td>\n      <td>10</td>\n      <td>4</td>\n    </tr>\n    <tr>\n      <th>2</th>\n      <td>2</td>\n      <td>0.994375</td>\n      <td>0.160991</td>\n      <td>train_s10_train_q4</td>\n      <td>10</td>\n      <td>4</td>\n    </tr>\n    <tr>\n      <th>3</th>\n      <td>3</td>\n      <td>0.996625</td>\n      <td>0.143864</td>\n      <td>train_s10_train_q4</td>\n      <td>10</td>\n      <td>4</td>\n    </tr>\n    <tr>\n      <th>4</th>\n      <td>4</td>\n      <td>0.998000</td>\n      <td>0.025811</td>\n      <td>train_s10_train_q4</td>\n      <td>10</td>\n      <td>4</td>\n    </tr>\n    <tr>\n      <th>...</th>\n      <td>...</td>\n      <td>...</td>\n      <td>...</td>\n      <td>...</td>\n      <td>...</td>\n      <td>...</td>\n    </tr>\n    <tr>\n      <th>2</th>\n      <td>2</td>\n      <td>0.994375</td>\n      <td>0.095764</td>\n      <td>train_s8_train_q4</td>\n      <td>8</td>\n      <td>4</td>\n    </tr>\n    <tr>\n      <th>3</th>\n      <td>3</td>\n      <td>0.996000</td>\n      <td>0.072379</td>\n      <td>train_s8_train_q4</td>\n      <td>8</td>\n      <td>4</td>\n    </tr>\n    <tr>\n      <th>4</th>\n      <td>4</td>\n      <td>0.994250</td>\n      <td>0.109346</td>\n      <td>train_s8_train_q4</td>\n      <td>8</td>\n      <td>4</td>\n    </tr>\n    <tr>\n      <th>5</th>\n      <td>5</td>\n      <td>0.995625</td>\n      <td>0.080572</td>\n      <td>train_s8_train_q4</td>\n      <td>8</td>\n      <td>4</td>\n    </tr>\n    <tr>\n      <th>6</th>\n      <td>6</td>\n      <td>0.998125</td>\n      <td>0.046786</td>\n      <td>train_s8_train_q4</td>\n      <td>8</td>\n      <td>4</td>\n    </tr>\n  </tbody>\n</table>\n<p>77 rows × 6 columns</p>\n</div>"
     },
     "execution_count": 56,
     "metadata": {},
     "output_type": "execute_result"
    }
   ],
   "source": [
    "ReWiS_ViT_train"
   ],
   "metadata": {
    "collapsed": false
   }
  },
  {
   "cell_type": "code",
   "execution_count": null,
   "outputs": [],
   "source": [
    "ReWiS_ViT_test"
   ],
   "metadata": {
    "collapsed": false,
    "pycharm": {
     "is_executing": true
    }
   }
  },
  {
   "cell_type": "code",
   "execution_count": null,
   "outputs": [],
   "source": [
    "ReWiS_ProtoNet_best_train = ReWiS_ProtoNet_train.groupby(['state','Train_support', 'Train_query'])['Accuracy'].max().reset_index()\n",
    "ReWiS_ProtoNet_best_train['type'] = 'ProtoNet_Train'"
   ],
   "metadata": {
    "collapsed": false,
    "pycharm": {
     "is_executing": true
    }
   }
  },
  {
   "cell_type": "code",
   "execution_count": null,
   "outputs": [],
   "source": [
    "ReWiS_ProtoNet_best_test = ReWiS_ProtoNet_test.groupby(['state','Test_support','Test_query'])['Test Accuracy'].max().reset_index()\n",
    "ReWiS_ProtoNet_best_test['type'] = 'ProtoNet_Test'\n",
    "ReWiS_ProtoNet_best_test.rename(columns={'state' : 'state', 'Test Accuracy' : 'Accuracy'},inplace=True)"
   ],
   "metadata": {
    "collapsed": false,
    "pycharm": {
     "is_executing": true
    }
   }
  },
  {
   "cell_type": "code",
   "execution_count": null,
   "outputs": [],
   "source": [
    "ReWiS_ProtoNet_best_train['support'] = ReWiS_ProtoNet_best_train['Train_support']\n",
    "ReWiS_ProtoNet_best_train['query'] = ReWiS_ProtoNet_best_train['Train_query']"
   ],
   "metadata": {
    "collapsed": false,
    "pycharm": {
     "is_executing": true
    }
   }
  },
  {
   "cell_type": "code",
   "execution_count": null,
   "outputs": [],
   "source": [
    "ReWiS_ProtoNet_best_test['support'] = ReWiS_ProtoNet_best_test['Test_support']\n",
    "ReWiS_ProtoNet_best_test['query'] = ReWiS_ProtoNet_best_test['Test_query']"
   ],
   "metadata": {
    "collapsed": false,
    "pycharm": {
     "is_executing": true
    }
   }
  },
  {
   "cell_type": "code",
   "execution_count": null,
   "outputs": [],
   "source": [
    "ReWiS_ProtoNet = pd.concat([ReWiS_ProtoNet_best_train, ReWiS_ProtoNet_best_test])"
   ],
   "metadata": {
    "collapsed": false,
    "pycharm": {
     "is_executing": true
    }
   }
  },
  {
   "cell_type": "code",
   "execution_count": null,
   "outputs": [],
   "source": [
    "ReWiS_ProtoNet['Accuracy'] *= 100"
   ],
   "metadata": {
    "collapsed": false,
    "pycharm": {
     "is_executing": true
    }
   }
  },
  {
   "cell_type": "code",
   "execution_count": null,
   "outputs": [],
   "source": [
    "ReWiS_ProtoNet = ReWiS_ProtoNet[['state','Accuracy','type','support','query']]"
   ],
   "metadata": {
    "collapsed": false,
    "pycharm": {
     "is_executing": true
    }
   }
  },
  {
   "cell_type": "code",
   "execution_count": null,
   "outputs": [],
   "source": [
    "combined_values = ['/'.join(map(str, values)) for values in zip(ReWiS_ProtoNet['support'], ReWiS_ProtoNet['query'])]\n",
    "ReWiS_ProtoNet['label'] = combined_values"
   ],
   "metadata": {
    "collapsed": false,
    "pycharm": {
     "is_executing": true
    }
   }
  },
  {
   "cell_type": "code",
   "execution_count": null,
   "outputs": [],
   "source": [
    "ReWiS_ProtoNet"
   ],
   "metadata": {
    "collapsed": false,
    "pycharm": {
     "is_executing": true
    }
   }
  },
  {
   "cell_type": "code",
   "execution_count": null,
   "outputs": [],
   "source": [
    "# ReWiS_ProtoNet['type'] = ReWiS_ProtoNet.loc[ReWiS_ProtoNet['type'] == 'train', 'type'] = 'ProtoNet_Train'\n",
    "# ReWiS_ProtoNet['type'] = ReWiS_ProtoNet.loc[ReWiS_ProtoNet['type'] == 'test', 'type'] = 'ProtoNet_Test'"
   ],
   "metadata": {
    "collapsed": false,
    "pycharm": {
     "is_executing": true
    }
   }
  },
  {
   "cell_type": "code",
   "execution_count": null,
   "outputs": [],
   "source": [
    "ReWiS_ProtoNet"
   ],
   "metadata": {
    "collapsed": false,
    "pycharm": {
     "is_executing": true
    }
   }
  },
  {
   "cell_type": "code",
   "execution_count": null,
   "outputs": [],
   "source": [
    "# sns.scatterplot(data=df_supervised_ReWiS, x=\"model\", y='Test Accuracy', hue='model', style='model')\n",
    "sns.lineplot(data=ReWiS_ProtoNet,x ='label', y='Accuracy',hue='type', marker='o')\n",
    "# plt.legend(loc='upper left', bbox_to_anchor=(1, 1))\n",
    "plt.legend(loc='lower right', bbox_to_anchor=(1, 0))\n",
    "# x_tick_labels = ['LeNet', 'ResNet50', 'RNN', 'LSTM', 'BiLSTM', 'ViT']\n",
    "plt.ylabel('Accuracy (%)', fontsize=12, fontweight='bold')\n",
    "plt.xlabel('Support set / Query set', fontsize=12, fontweight='bold')\n",
    "plt.yticks([0, 10, 20, 30, 40, 50, 60, 70, 80, 90, 100])\n",
    "# plt.xticks(range(len(x_tick_labels)), x_tick_labels)\n",
    "plt.show()"
   ],
   "metadata": {
    "collapsed": false,
    "pycharm": {
     "is_executing": true
    }
   }
  },
  {
   "cell_type": "code",
   "execution_count": null,
   "outputs": [],
   "source": [
    "ReWiS_ViT_best_train = ReWiS_ViT_train.groupby(['state', 'Train_support', 'Train_query'])[\n",
    "    'Accuracy'].max().reset_index()\n",
    "ReWiS_ViT_best_train['type'] = 'ViT_Train'\n",
    "ReWiS_ViT_best_test = ReWiS_ViT_test.groupby(['state', 'Test_support', 'Test_query'])[\n",
    "    'Test Accuracy'].max().reset_index()\n",
    "ReWiS_ViT_best_test['type'] = 'ViT_Test'"
   ],
   "metadata": {
    "collapsed": false,
    "pycharm": {
     "is_executing": true
    }
   }
  },
  {
   "cell_type": "code",
   "execution_count": null,
   "outputs": [],
   "source": [
    "ReWiS_ViT_best_test.rename(columns={'state': 'state', 'Test Accuracy': 'Accuracy'}, inplace=True)\n",
    "ReWiS_ViT_best_train['support'] = ReWiS_ViT_best_train['Train_support']\n",
    "ReWiS_ViT_best_train['query'] = ReWiS_ViT_best_train['Train_query']\n",
    "ReWiS_ViT_best_test['support'] = ReWiS_ViT_best_test['Test_support']\n",
    "ReWiS_ViT_best_test['query'] = ReWiS_ViT_best_test['Test_query']\n",
    "ReWiS_ViT = pd.concat([ReWiS_ViT_best_train, ReWiS_ViT_best_test])"
   ],
   "metadata": {
    "collapsed": false,
    "pycharm": {
     "is_executing": true
    }
   }
  },
  {
   "cell_type": "code",
   "execution_count": null,
   "outputs": [],
   "source": [
    "ReWiS_ViT['Accuracy'] *= 100\n",
    "ReWiS_ViT = ReWiS_ViT[['state', 'Accuracy', 'type', 'support', 'query']]\n",
    "combined_values = ['/'.join(map(str, values)) for values in zip(ReWiS_ViT['support'], ReWiS_ViT['query'])]\n",
    "ReWiS_ViT['label'] = combined_values\n",
    "ReWiS_ViT"
   ],
   "metadata": {
    "collapsed": false,
    "pycharm": {
     "is_executing": true
    }
   }
  },
  {
   "cell_type": "code",
   "execution_count": null,
   "outputs": [],
   "source": [
    "sns.lineplot(data=ReWiS_ViT, x='label', y='Accuracy', hue='type', marker='o')\n",
    "plt.legend(loc='lower right', bbox_to_anchor=(1, 0))\n",
    "plt.ylabel('Accuracy (%)', fontsize=12, fontweight='bold')\n",
    "plt.xlabel('Support set / Query set', fontsize=12, fontweight='bold')\n",
    "plt.yticks([0, 10, 20, 30, 40, 50, 60, 70, 80, 90, 100])\n",
    "plt.show()"
   ],
   "metadata": {
    "collapsed": false,
    "pycharm": {
     "is_executing": true
    }
   }
  },
  {
   "cell_type": "code",
   "execution_count": null,
   "outputs": [],
   "source": [
    "ReWiS = pd.concat([ReWiS_ProtoNet, ReWiS_ViT])"
   ],
   "metadata": {
    "collapsed": false,
    "pycharm": {
     "is_executing": true
    }
   }
  },
  {
   "cell_type": "code",
   "execution_count": null,
   "outputs": [],
   "source": [
    "ReWiS = ReWiS[ReWiS['type']=='ProtoNet_Train']"
   ],
   "metadata": {
    "collapsed": false,
    "pycharm": {
     "is_executing": true
    }
   }
  },
  {
   "cell_type": "code",
   "execution_count": null,
   "outputs": [],
   "source": [
    "sns.lineplot(data=ReWiS, x='label', y='Accuracy', hue='type', markers='o', dashes=(4, 2, 1, 2))\n",
    "plt.legend(loc='lower right', bbox_to_anchor=(1, 0))\n",
    "plt.ylabel('Accuracy (%)', fontsize=12, fontweight='bold')\n",
    "plt.xlabel('Support set / Query set', fontsize=12, fontweight='bold')\n",
    "plt.yticks([0, 10, 20, 30, 40, 50, 60, 70, 80, 90, 100])\n",
    "plt.show()"
   ],
   "metadata": {
    "collapsed": false,
    "pycharm": {
     "is_executing": true
    }
   }
  },
  {
   "cell_type": "code",
   "execution_count": null,
   "outputs": [],
   "source": [],
   "metadata": {
    "collapsed": false,
    "pycharm": {
     "is_executing": true
    }
   }
  }
 ],
 "metadata": {
  "kernelspec": {
   "display_name": "Python 3",
   "language": "python",
   "name": "python3"
  },
  "language_info": {
   "codemirror_mode": {
    "name": "ipython",
    "version": 2
   },
   "file_extension": ".py",
   "mimetype": "text/x-python",
   "name": "python",
   "nbconvert_exporter": "python",
   "pygments_lexer": "ipython2",
   "version": "2.7.6"
  }
 },
 "nbformat": 4,
 "nbformat_minor": 0
}
