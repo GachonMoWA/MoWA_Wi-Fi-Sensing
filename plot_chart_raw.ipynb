{
 "cells": [
  {
   "cell_type": "code",
   "execution_count": 135,
   "metadata": {
    "collapsed": true
   },
   "outputs": [],
   "source": [
    "import pandas as pd\n",
    "import matplotlib.pyplot as plt\n",
    "import seaborn as sns\n",
    "import numpy as np\n",
    "import re\n",
    "import os\n",
    "\n",
    "plt.rcParams['font.family'] = 'Malgun Gothic'"
   ]
  },
  {
   "cell_type": "code",
   "execution_count": 136,
   "outputs": [],
   "source": [
    "root_Name = \"Result/Plot_data\""
   ],
   "metadata": {
    "collapsed": false
   }
  },
  {
   "cell_type": "code",
   "execution_count": 137,
   "outputs": [
    {
     "name": "stdout",
     "output_type": "stream",
     "text": [
      "No CSV files found in the folder: Result/Plot_data\\few-shot/Home/ViT/train_s15_train_q5_test_s15_test_q5\n",
      "No CSV files found in the folder: Result/Plot_data\\few-shot/Home/ViT/train_s15_train_q5_test_s4_test_q4\n",
      "No CSV files found in the folder: Result/Plot_data\\few-shot/Home/ViT/train_s4_train_q10_test_s4_test_q4\n",
      "No CSV files found in the folder: Result/Plot_data\\few-shot/Home/ViT/train_s4_train_q4_test_s4_test_q4\n"
     ]
    }
   ],
   "source": [
    "ViT_folder_path = os.path.join(root_Name, 'few-shot/Home/ViT/')\n",
    "Home_ViT_train = pd.DataFrame()\n",
    "\n",
    "# ProtoNet 폴더 내의 모든 폴더 탐색\n",
    "for dir_name in os.listdir(ViT_folder_path):\n",
    "    folder_path = os.path.join(ViT_folder_path, dir_name)\n",
    "\n",
    "    # 폴더인 경우에만 처리\n",
    "    if os.path.isdir(folder_path):\n",
    "        csv_files = [file for file in os.listdir(folder_path) if file.endswith('.csv')]\n",
    "\n",
    "        if csv_files:\n",
    "            file_path = os.path.join(folder_path, csv_files[2])\n",
    "            folder_name = os.path.basename(folder_path)\n",
    "\n",
    "            # print(folder_name)\n",
    "\n",
    "            numbers = re.findall(r'\\d+', folder_name)\n",
    "            numbers = list(map(int, numbers))\n",
    "\n",
    "            exec(f\"{folder_name} = pd.read_csv(file_path)\")\n",
    "\n",
    "            Home_ViT_temp = globals()[folder_name]\n",
    "\n",
    "            # print(ReWiS_ProtoNet_temp)\n",
    "\n",
    "            Home_ViT_temp = Home_ViT_temp[['Epoch', 'Accuracy', 'Loss']]\n",
    "\n",
    "            # Home_ViT_temp[\"state\"] = folder_name[:folder_name.find('_test_')]\n",
    "            Home_ViT_temp[\"state\"] = folder_name\n",
    "            Home_ViT_temp[\"Train_support\"] = numbers[0]\n",
    "            Home_ViT_temp[\"Train_query\"] = numbers[1]\n",
    "\n",
    "            # print(ReWiS_ProtoNet_temp)\n",
    "            Home_ViT_train = pd.concat([Home_ViT_train, Home_ViT_temp])\n",
    "        else:\n",
    "            print(\"No CSV files found in the folder:\", folder_path)"
   ],
   "metadata": {
    "collapsed": false
   }
  },
  {
   "cell_type": "code",
   "execution_count": 138,
   "outputs": [
    {
     "data": {
      "text/plain": "    Epoch  Accuracy      Loss                               state  \\\n0       0    0.9832  0.048562  train_s10_train_q5_test_s5_test_q5   \n1       1    1.0000  0.000013  train_s10_train_q5_test_s5_test_q5   \n2       2    0.9695  0.089854  train_s10_train_q5_test_s5_test_q5   \n3       3    0.9927  0.024971  train_s10_train_q5_test_s5_test_q5   \n4       4    0.9997  0.000975  train_s10_train_q5_test_s5_test_q5   \n..    ...       ...       ...                                 ...   \n2       2    0.9990  0.003195   train_s5_train_q5_test_s5_test_q5   \n3       3    0.9969  0.011724   train_s5_train_q5_test_s5_test_q5   \n4       4    1.0000  0.000047   train_s5_train_q5_test_s5_test_q5   \n5       5    1.0000  0.000049   train_s5_train_q5_test_s5_test_q5   \n6       6    1.0000  0.000093   train_s5_train_q5_test_s5_test_q5   \n\n    Train_support  Train_query  \n0              10            5  \n1              10            5  \n2              10            5  \n3              10            5  \n4              10            5  \n..            ...          ...  \n2               5            5  \n3               5            5  \n4               5            5  \n5               5            5  \n6               5            5  \n\n[63 rows x 6 columns]",
      "text/html": "<div>\n<style scoped>\n    .dataframe tbody tr th:only-of-type {\n        vertical-align: middle;\n    }\n\n    .dataframe tbody tr th {\n        vertical-align: top;\n    }\n\n    .dataframe thead th {\n        text-align: right;\n    }\n</style>\n<table border=\"1\" class=\"dataframe\">\n  <thead>\n    <tr style=\"text-align: right;\">\n      <th></th>\n      <th>Epoch</th>\n      <th>Accuracy</th>\n      <th>Loss</th>\n      <th>state</th>\n      <th>Train_support</th>\n      <th>Train_query</th>\n    </tr>\n  </thead>\n  <tbody>\n    <tr>\n      <th>0</th>\n      <td>0</td>\n      <td>0.9832</td>\n      <td>0.048562</td>\n      <td>train_s10_train_q5_test_s5_test_q5</td>\n      <td>10</td>\n      <td>5</td>\n    </tr>\n    <tr>\n      <th>1</th>\n      <td>1</td>\n      <td>1.0000</td>\n      <td>0.000013</td>\n      <td>train_s10_train_q5_test_s5_test_q5</td>\n      <td>10</td>\n      <td>5</td>\n    </tr>\n    <tr>\n      <th>2</th>\n      <td>2</td>\n      <td>0.9695</td>\n      <td>0.089854</td>\n      <td>train_s10_train_q5_test_s5_test_q5</td>\n      <td>10</td>\n      <td>5</td>\n    </tr>\n    <tr>\n      <th>3</th>\n      <td>3</td>\n      <td>0.9927</td>\n      <td>0.024971</td>\n      <td>train_s10_train_q5_test_s5_test_q5</td>\n      <td>10</td>\n      <td>5</td>\n    </tr>\n    <tr>\n      <th>4</th>\n      <td>4</td>\n      <td>0.9997</td>\n      <td>0.000975</td>\n      <td>train_s10_train_q5_test_s5_test_q5</td>\n      <td>10</td>\n      <td>5</td>\n    </tr>\n    <tr>\n      <th>...</th>\n      <td>...</td>\n      <td>...</td>\n      <td>...</td>\n      <td>...</td>\n      <td>...</td>\n      <td>...</td>\n    </tr>\n    <tr>\n      <th>2</th>\n      <td>2</td>\n      <td>0.9990</td>\n      <td>0.003195</td>\n      <td>train_s5_train_q5_test_s5_test_q5</td>\n      <td>5</td>\n      <td>5</td>\n    </tr>\n    <tr>\n      <th>3</th>\n      <td>3</td>\n      <td>0.9969</td>\n      <td>0.011724</td>\n      <td>train_s5_train_q5_test_s5_test_q5</td>\n      <td>5</td>\n      <td>5</td>\n    </tr>\n    <tr>\n      <th>4</th>\n      <td>4</td>\n      <td>1.0000</td>\n      <td>0.000047</td>\n      <td>train_s5_train_q5_test_s5_test_q5</td>\n      <td>5</td>\n      <td>5</td>\n    </tr>\n    <tr>\n      <th>5</th>\n      <td>5</td>\n      <td>1.0000</td>\n      <td>0.000049</td>\n      <td>train_s5_train_q5_test_s5_test_q5</td>\n      <td>5</td>\n      <td>5</td>\n    </tr>\n    <tr>\n      <th>6</th>\n      <td>6</td>\n      <td>1.0000</td>\n      <td>0.000093</td>\n      <td>train_s5_train_q5_test_s5_test_q5</td>\n      <td>5</td>\n      <td>5</td>\n    </tr>\n  </tbody>\n</table>\n<p>63 rows × 6 columns</p>\n</div>"
     },
     "execution_count": 138,
     "metadata": {},
     "output_type": "execute_result"
    }
   ],
   "source": [
    "Home_ViT_train"
   ],
   "metadata": {
    "collapsed": false
   }
  },
  {
   "cell_type": "code",
   "execution_count": 139,
   "outputs": [
    {
     "name": "stdout",
     "output_type": "stream",
     "text": [
      "No CSV files found in the folder: Result/Plot_data\\few-shot/Home/ViT/train_s15_train_q5_test_s15_test_q5\n",
      "No CSV files found in the folder: Result/Plot_data\\few-shot/Home/ViT/train_s15_train_q5_test_s4_test_q4\n",
      "No CSV files found in the folder: Result/Plot_data\\few-shot/Home/ViT/train_s4_train_q10_test_s4_test_q4\n",
      "No CSV files found in the folder: Result/Plot_data\\few-shot/Home/ViT/train_s4_train_q4_test_s4_test_q4\n"
     ]
    }
   ],
   "source": [
    "ViT_folder_path = os.path.join(root_Name, 'few-shot/Home/ViT/')\n",
    "Home_ViT_test = pd.DataFrame()\n",
    "\n",
    "# ProtoNet 폴더 내의 모든 폴더 탐색\n",
    "for dir_name in os.listdir(ViT_folder_path):\n",
    "    folder_path = os.path.join(ViT_folder_path, dir_name)\n",
    "\n",
    "    # 폴더인 경우에만 처리\n",
    "    if os.path.isdir(folder_path):\n",
    "        csv_files = [file for file in os.listdir(folder_path) if file.endswith('.csv')]\n",
    "\n",
    "        if csv_files:\n",
    "            file_path = os.path.join(folder_path, csv_files[1])\n",
    "            folder_name = os.path.basename(folder_path)\n",
    "\n",
    "            # print(folder_name)\n",
    "\n",
    "            numbers = re.findall(r'\\d+', folder_name)\n",
    "            numbers = list(map(int, numbers))\n",
    "\n",
    "            exec(f\"{folder_name} = pd.read_csv(file_path)\")\n",
    "\n",
    "            Home_ViT_temp = globals()[folder_name]\n",
    "\n",
    "            # print(ReWiS_ProtoNet_temp)\n",
    "\n",
    "            Home_ViT_temp = Home_ViT_temp[['Test Accuracy']]\n",
    "\n",
    "            Home_ViT_temp[\"state\"] = folder_name[:folder_name.find('_test_')]\n",
    "            Home_ViT_temp[\"state\"] = folder_name\n",
    "            Home_ViT_temp[\"Test_support\"] = numbers[2]\n",
    "            Home_ViT_temp[\"Test_query\"] = numbers[3]\n",
    "\n",
    "            # print(ReWiS_ProtoNet_temp)\n",
    "            Home_ViT_test = pd.concat([Home_ViT_test, Home_ViT_temp])\n",
    "        else:\n",
    "            print(\"No CSV files found in the folder:\", folder_path)"
   ],
   "metadata": {
    "collapsed": false
   }
  },
  {
   "cell_type": "code",
   "execution_count": 140,
   "outputs": [
    {
     "data": {
      "text/plain": "   Test Accuracy                               state  Test_support  Test_query\n0           1.00  train_s10_train_q5_test_s5_test_q5             5           5\n0           1.00  train_s15_train_q5_test_s5_test_q5             5           5\n0           0.96  train_s5_train_q10_test_s5_test_q5             5           5\n0           1.00  train_s5_train_q15_test_s5_test_q5             5           5\n0           1.00  train_s5_train_q5_test_s10_test_q5            10           5\n0           1.00  train_s5_train_q5_test_s15_test_q5            15           5\n0           0.92  train_s5_train_q5_test_s5_test_q10             5          10\n0           0.92  train_s5_train_q5_test_s5_test_q15             5          15\n0           1.00   train_s5_train_q5_test_s5_test_q5             5           5",
      "text/html": "<div>\n<style scoped>\n    .dataframe tbody tr th:only-of-type {\n        vertical-align: middle;\n    }\n\n    .dataframe tbody tr th {\n        vertical-align: top;\n    }\n\n    .dataframe thead th {\n        text-align: right;\n    }\n</style>\n<table border=\"1\" class=\"dataframe\">\n  <thead>\n    <tr style=\"text-align: right;\">\n      <th></th>\n      <th>Test Accuracy</th>\n      <th>state</th>\n      <th>Test_support</th>\n      <th>Test_query</th>\n    </tr>\n  </thead>\n  <tbody>\n    <tr>\n      <th>0</th>\n      <td>1.00</td>\n      <td>train_s10_train_q5_test_s5_test_q5</td>\n      <td>5</td>\n      <td>5</td>\n    </tr>\n    <tr>\n      <th>0</th>\n      <td>1.00</td>\n      <td>train_s15_train_q5_test_s5_test_q5</td>\n      <td>5</td>\n      <td>5</td>\n    </tr>\n    <tr>\n      <th>0</th>\n      <td>0.96</td>\n      <td>train_s5_train_q10_test_s5_test_q5</td>\n      <td>5</td>\n      <td>5</td>\n    </tr>\n    <tr>\n      <th>0</th>\n      <td>1.00</td>\n      <td>train_s5_train_q15_test_s5_test_q5</td>\n      <td>5</td>\n      <td>5</td>\n    </tr>\n    <tr>\n      <th>0</th>\n      <td>1.00</td>\n      <td>train_s5_train_q5_test_s10_test_q5</td>\n      <td>10</td>\n      <td>5</td>\n    </tr>\n    <tr>\n      <th>0</th>\n      <td>1.00</td>\n      <td>train_s5_train_q5_test_s15_test_q5</td>\n      <td>15</td>\n      <td>5</td>\n    </tr>\n    <tr>\n      <th>0</th>\n      <td>0.92</td>\n      <td>train_s5_train_q5_test_s5_test_q10</td>\n      <td>5</td>\n      <td>10</td>\n    </tr>\n    <tr>\n      <th>0</th>\n      <td>0.92</td>\n      <td>train_s5_train_q5_test_s5_test_q15</td>\n      <td>5</td>\n      <td>15</td>\n    </tr>\n    <tr>\n      <th>0</th>\n      <td>1.00</td>\n      <td>train_s5_train_q5_test_s5_test_q5</td>\n      <td>5</td>\n      <td>5</td>\n    </tr>\n  </tbody>\n</table>\n</div>"
     },
     "execution_count": 140,
     "metadata": {},
     "output_type": "execute_result"
    }
   ],
   "source": [
    "Home_ViT_test"
   ],
   "metadata": {
    "collapsed": false
   }
  },
  {
   "cell_type": "code",
   "execution_count": 141,
   "outputs": [],
   "source": [
    "Home_ViT_best_train = Home_ViT_train.groupby(['state','Train_support', 'Train_query'])['Accuracy'].max().reset_index()\n",
    "Home_ViT_best_train['type'] = 'ViT_Train'"
   ],
   "metadata": {
    "collapsed": false
   }
  },
  {
   "cell_type": "code",
   "execution_count": 142,
   "outputs": [],
   "source": [
    "Home_ViT_best_test = Home_ViT_test.groupby(['state','Test_support','Test_query'])['Test Accuracy'].max().reset_index()\n",
    "Home_ViT_best_test['type'] = 'ViT_Test'\n",
    "Home_ViT_best_test.rename(columns={'state' : 'state', 'Test Accuracy' : 'Accuracy'},inplace=True)"
   ],
   "metadata": {
    "collapsed": false
   }
  },
  {
   "cell_type": "code",
   "execution_count": 143,
   "outputs": [],
   "source": [
    "Home_ViT_best_train['support'] = Home_ViT_best_train['Train_support']\n",
    "Home_ViT_best_train['query'] = Home_ViT_best_train['Train_query']"
   ],
   "metadata": {
    "collapsed": false
   }
  },
  {
   "cell_type": "code",
   "execution_count": 144,
   "outputs": [],
   "source": [
    "Home_ViT_best_test['support'] = Home_ViT_best_test['Test_support']\n",
    "Home_ViT_best_test['query'] = Home_ViT_best_test['Test_query']"
   ],
   "metadata": {
    "collapsed": false
   }
  },
  {
   "cell_type": "code",
   "execution_count": 145,
   "outputs": [],
   "source": [
    "Home_ViT = pd.concat([Home_ViT_best_train, Home_ViT_best_test])"
   ],
   "metadata": {
    "collapsed": false
   }
  },
  {
   "cell_type": "code",
   "execution_count": 146,
   "outputs": [],
   "source": [
    "Home_ViT['Accuracy'] *= 100"
   ],
   "metadata": {
    "collapsed": false
   }
  },
  {
   "cell_type": "code",
   "execution_count": 147,
   "outputs": [
    {
     "data": {
      "text/plain": "                                state  Train_support  Train_query    Accuracy  \\\n0  train_s10_train_q5_test_s5_test_q5           10.0          5.0  100.000000   \n1  train_s15_train_q5_test_s5_test_q5           15.0          5.0   99.980000   \n2  train_s5_train_q10_test_s5_test_q5            5.0         10.0  100.000000   \n3  train_s5_train_q15_test_s5_test_q5            5.0         15.0  100.000000   \n4  train_s5_train_q5_test_s10_test_q5            5.0          5.0  100.000000   \n5  train_s5_train_q5_test_s15_test_q5            5.0          5.0  100.000000   \n6  train_s5_train_q5_test_s5_test_q10            5.0          5.0  100.000000   \n7  train_s5_train_q5_test_s5_test_q15            5.0          5.0  100.000000   \n8   train_s5_train_q5_test_s5_test_q5            5.0          5.0  100.000000   \n0  train_s10_train_q5_test_s5_test_q5            NaN          NaN  100.000000   \n1  train_s15_train_q5_test_s5_test_q5            NaN          NaN  100.000000   \n2  train_s5_train_q10_test_s5_test_q5            NaN          NaN   95.999999   \n3  train_s5_train_q15_test_s5_test_q5            NaN          NaN  100.000000   \n4  train_s5_train_q5_test_s10_test_q5            NaN          NaN  100.000000   \n5  train_s5_train_q5_test_s15_test_q5            NaN          NaN  100.000000   \n6  train_s5_train_q5_test_s5_test_q10            NaN          NaN   92.000000   \n7  train_s5_train_q5_test_s5_test_q15            NaN          NaN   92.000000   \n8   train_s5_train_q5_test_s5_test_q5            NaN          NaN  100.000000   \n\n        type  support  query  Test_support  Test_query  \n0  ViT_Train       10      5           NaN         NaN  \n1  ViT_Train       15      5           NaN         NaN  \n2  ViT_Train        5     10           NaN         NaN  \n3  ViT_Train        5     15           NaN         NaN  \n4  ViT_Train        5      5           NaN         NaN  \n5  ViT_Train        5      5           NaN         NaN  \n6  ViT_Train        5      5           NaN         NaN  \n7  ViT_Train        5      5           NaN         NaN  \n8  ViT_Train        5      5           NaN         NaN  \n0   ViT_Test        5      5           5.0         5.0  \n1   ViT_Test        5      5           5.0         5.0  \n2   ViT_Test        5      5           5.0         5.0  \n3   ViT_Test        5      5           5.0         5.0  \n4   ViT_Test       10      5          10.0         5.0  \n5   ViT_Test       15      5          15.0         5.0  \n6   ViT_Test        5     10           5.0        10.0  \n7   ViT_Test        5     15           5.0        15.0  \n8   ViT_Test        5      5           5.0         5.0  ",
      "text/html": "<div>\n<style scoped>\n    .dataframe tbody tr th:only-of-type {\n        vertical-align: middle;\n    }\n\n    .dataframe tbody tr th {\n        vertical-align: top;\n    }\n\n    .dataframe thead th {\n        text-align: right;\n    }\n</style>\n<table border=\"1\" class=\"dataframe\">\n  <thead>\n    <tr style=\"text-align: right;\">\n      <th></th>\n      <th>state</th>\n      <th>Train_support</th>\n      <th>Train_query</th>\n      <th>Accuracy</th>\n      <th>type</th>\n      <th>support</th>\n      <th>query</th>\n      <th>Test_support</th>\n      <th>Test_query</th>\n    </tr>\n  </thead>\n  <tbody>\n    <tr>\n      <th>0</th>\n      <td>train_s10_train_q5_test_s5_test_q5</td>\n      <td>10.0</td>\n      <td>5.0</td>\n      <td>100.000000</td>\n      <td>ViT_Train</td>\n      <td>10</td>\n      <td>5</td>\n      <td>NaN</td>\n      <td>NaN</td>\n    </tr>\n    <tr>\n      <th>1</th>\n      <td>train_s15_train_q5_test_s5_test_q5</td>\n      <td>15.0</td>\n      <td>5.0</td>\n      <td>99.980000</td>\n      <td>ViT_Train</td>\n      <td>15</td>\n      <td>5</td>\n      <td>NaN</td>\n      <td>NaN</td>\n    </tr>\n    <tr>\n      <th>2</th>\n      <td>train_s5_train_q10_test_s5_test_q5</td>\n      <td>5.0</td>\n      <td>10.0</td>\n      <td>100.000000</td>\n      <td>ViT_Train</td>\n      <td>5</td>\n      <td>10</td>\n      <td>NaN</td>\n      <td>NaN</td>\n    </tr>\n    <tr>\n      <th>3</th>\n      <td>train_s5_train_q15_test_s5_test_q5</td>\n      <td>5.0</td>\n      <td>15.0</td>\n      <td>100.000000</td>\n      <td>ViT_Train</td>\n      <td>5</td>\n      <td>15</td>\n      <td>NaN</td>\n      <td>NaN</td>\n    </tr>\n    <tr>\n      <th>4</th>\n      <td>train_s5_train_q5_test_s10_test_q5</td>\n      <td>5.0</td>\n      <td>5.0</td>\n      <td>100.000000</td>\n      <td>ViT_Train</td>\n      <td>5</td>\n      <td>5</td>\n      <td>NaN</td>\n      <td>NaN</td>\n    </tr>\n    <tr>\n      <th>5</th>\n      <td>train_s5_train_q5_test_s15_test_q5</td>\n      <td>5.0</td>\n      <td>5.0</td>\n      <td>100.000000</td>\n      <td>ViT_Train</td>\n      <td>5</td>\n      <td>5</td>\n      <td>NaN</td>\n      <td>NaN</td>\n    </tr>\n    <tr>\n      <th>6</th>\n      <td>train_s5_train_q5_test_s5_test_q10</td>\n      <td>5.0</td>\n      <td>5.0</td>\n      <td>100.000000</td>\n      <td>ViT_Train</td>\n      <td>5</td>\n      <td>5</td>\n      <td>NaN</td>\n      <td>NaN</td>\n    </tr>\n    <tr>\n      <th>7</th>\n      <td>train_s5_train_q5_test_s5_test_q15</td>\n      <td>5.0</td>\n      <td>5.0</td>\n      <td>100.000000</td>\n      <td>ViT_Train</td>\n      <td>5</td>\n      <td>5</td>\n      <td>NaN</td>\n      <td>NaN</td>\n    </tr>\n    <tr>\n      <th>8</th>\n      <td>train_s5_train_q5_test_s5_test_q5</td>\n      <td>5.0</td>\n      <td>5.0</td>\n      <td>100.000000</td>\n      <td>ViT_Train</td>\n      <td>5</td>\n      <td>5</td>\n      <td>NaN</td>\n      <td>NaN</td>\n    </tr>\n    <tr>\n      <th>0</th>\n      <td>train_s10_train_q5_test_s5_test_q5</td>\n      <td>NaN</td>\n      <td>NaN</td>\n      <td>100.000000</td>\n      <td>ViT_Test</td>\n      <td>5</td>\n      <td>5</td>\n      <td>5.0</td>\n      <td>5.0</td>\n    </tr>\n    <tr>\n      <th>1</th>\n      <td>train_s15_train_q5_test_s5_test_q5</td>\n      <td>NaN</td>\n      <td>NaN</td>\n      <td>100.000000</td>\n      <td>ViT_Test</td>\n      <td>5</td>\n      <td>5</td>\n      <td>5.0</td>\n      <td>5.0</td>\n    </tr>\n    <tr>\n      <th>2</th>\n      <td>train_s5_train_q10_test_s5_test_q5</td>\n      <td>NaN</td>\n      <td>NaN</td>\n      <td>95.999999</td>\n      <td>ViT_Test</td>\n      <td>5</td>\n      <td>5</td>\n      <td>5.0</td>\n      <td>5.0</td>\n    </tr>\n    <tr>\n      <th>3</th>\n      <td>train_s5_train_q15_test_s5_test_q5</td>\n      <td>NaN</td>\n      <td>NaN</td>\n      <td>100.000000</td>\n      <td>ViT_Test</td>\n      <td>5</td>\n      <td>5</td>\n      <td>5.0</td>\n      <td>5.0</td>\n    </tr>\n    <tr>\n      <th>4</th>\n      <td>train_s5_train_q5_test_s10_test_q5</td>\n      <td>NaN</td>\n      <td>NaN</td>\n      <td>100.000000</td>\n      <td>ViT_Test</td>\n      <td>10</td>\n      <td>5</td>\n      <td>10.0</td>\n      <td>5.0</td>\n    </tr>\n    <tr>\n      <th>5</th>\n      <td>train_s5_train_q5_test_s15_test_q5</td>\n      <td>NaN</td>\n      <td>NaN</td>\n      <td>100.000000</td>\n      <td>ViT_Test</td>\n      <td>15</td>\n      <td>5</td>\n      <td>15.0</td>\n      <td>5.0</td>\n    </tr>\n    <tr>\n      <th>6</th>\n      <td>train_s5_train_q5_test_s5_test_q10</td>\n      <td>NaN</td>\n      <td>NaN</td>\n      <td>92.000000</td>\n      <td>ViT_Test</td>\n      <td>5</td>\n      <td>10</td>\n      <td>5.0</td>\n      <td>10.0</td>\n    </tr>\n    <tr>\n      <th>7</th>\n      <td>train_s5_train_q5_test_s5_test_q15</td>\n      <td>NaN</td>\n      <td>NaN</td>\n      <td>92.000000</td>\n      <td>ViT_Test</td>\n      <td>5</td>\n      <td>15</td>\n      <td>5.0</td>\n      <td>15.0</td>\n    </tr>\n    <tr>\n      <th>8</th>\n      <td>train_s5_train_q5_test_s5_test_q5</td>\n      <td>NaN</td>\n      <td>NaN</td>\n      <td>100.000000</td>\n      <td>ViT_Test</td>\n      <td>5</td>\n      <td>5</td>\n      <td>5.0</td>\n      <td>5.0</td>\n    </tr>\n  </tbody>\n</table>\n</div>"
     },
     "execution_count": 147,
     "metadata": {},
     "output_type": "execute_result"
    }
   ],
   "source": [
    "Home_ViT"
   ],
   "metadata": {
    "collapsed": false
   }
  },
  {
   "cell_type": "code",
   "execution_count": 148,
   "outputs": [],
   "source": [
    "Home_ViT = Home_ViT[['state','Accuracy','type','support','query']]"
   ],
   "metadata": {
    "collapsed": false
   }
  },
  {
   "cell_type": "code",
   "execution_count": 149,
   "outputs": [
    {
     "data": {
      "text/plain": "                                state    Accuracy       type  support  query\n0  train_s10_train_q5_test_s5_test_q5  100.000000  ViT_Train       10      5\n1  train_s15_train_q5_test_s5_test_q5   99.980000  ViT_Train       15      5\n2  train_s5_train_q10_test_s5_test_q5  100.000000  ViT_Train        5     10\n3  train_s5_train_q15_test_s5_test_q5  100.000000  ViT_Train        5     15\n4  train_s5_train_q5_test_s10_test_q5  100.000000  ViT_Train        5      5\n5  train_s5_train_q5_test_s15_test_q5  100.000000  ViT_Train        5      5\n6  train_s5_train_q5_test_s5_test_q10  100.000000  ViT_Train        5      5\n7  train_s5_train_q5_test_s5_test_q15  100.000000  ViT_Train        5      5\n8   train_s5_train_q5_test_s5_test_q5  100.000000  ViT_Train        5      5\n0  train_s10_train_q5_test_s5_test_q5  100.000000   ViT_Test        5      5\n1  train_s15_train_q5_test_s5_test_q5  100.000000   ViT_Test        5      5\n2  train_s5_train_q10_test_s5_test_q5   95.999999   ViT_Test        5      5\n3  train_s5_train_q15_test_s5_test_q5  100.000000   ViT_Test        5      5\n4  train_s5_train_q5_test_s10_test_q5  100.000000   ViT_Test       10      5\n5  train_s5_train_q5_test_s15_test_q5  100.000000   ViT_Test       15      5\n6  train_s5_train_q5_test_s5_test_q10   92.000000   ViT_Test        5     10\n7  train_s5_train_q5_test_s5_test_q15   92.000000   ViT_Test        5     15\n8   train_s5_train_q5_test_s5_test_q5  100.000000   ViT_Test        5      5",
      "text/html": "<div>\n<style scoped>\n    .dataframe tbody tr th:only-of-type {\n        vertical-align: middle;\n    }\n\n    .dataframe tbody tr th {\n        vertical-align: top;\n    }\n\n    .dataframe thead th {\n        text-align: right;\n    }\n</style>\n<table border=\"1\" class=\"dataframe\">\n  <thead>\n    <tr style=\"text-align: right;\">\n      <th></th>\n      <th>state</th>\n      <th>Accuracy</th>\n      <th>type</th>\n      <th>support</th>\n      <th>query</th>\n    </tr>\n  </thead>\n  <tbody>\n    <tr>\n      <th>0</th>\n      <td>train_s10_train_q5_test_s5_test_q5</td>\n      <td>100.000000</td>\n      <td>ViT_Train</td>\n      <td>10</td>\n      <td>5</td>\n    </tr>\n    <tr>\n      <th>1</th>\n      <td>train_s15_train_q5_test_s5_test_q5</td>\n      <td>99.980000</td>\n      <td>ViT_Train</td>\n      <td>15</td>\n      <td>5</td>\n    </tr>\n    <tr>\n      <th>2</th>\n      <td>train_s5_train_q10_test_s5_test_q5</td>\n      <td>100.000000</td>\n      <td>ViT_Train</td>\n      <td>5</td>\n      <td>10</td>\n    </tr>\n    <tr>\n      <th>3</th>\n      <td>train_s5_train_q15_test_s5_test_q5</td>\n      <td>100.000000</td>\n      <td>ViT_Train</td>\n      <td>5</td>\n      <td>15</td>\n    </tr>\n    <tr>\n      <th>4</th>\n      <td>train_s5_train_q5_test_s10_test_q5</td>\n      <td>100.000000</td>\n      <td>ViT_Train</td>\n      <td>5</td>\n      <td>5</td>\n    </tr>\n    <tr>\n      <th>5</th>\n      <td>train_s5_train_q5_test_s15_test_q5</td>\n      <td>100.000000</td>\n      <td>ViT_Train</td>\n      <td>5</td>\n      <td>5</td>\n    </tr>\n    <tr>\n      <th>6</th>\n      <td>train_s5_train_q5_test_s5_test_q10</td>\n      <td>100.000000</td>\n      <td>ViT_Train</td>\n      <td>5</td>\n      <td>5</td>\n    </tr>\n    <tr>\n      <th>7</th>\n      <td>train_s5_train_q5_test_s5_test_q15</td>\n      <td>100.000000</td>\n      <td>ViT_Train</td>\n      <td>5</td>\n      <td>5</td>\n    </tr>\n    <tr>\n      <th>8</th>\n      <td>train_s5_train_q5_test_s5_test_q5</td>\n      <td>100.000000</td>\n      <td>ViT_Train</td>\n      <td>5</td>\n      <td>5</td>\n    </tr>\n    <tr>\n      <th>0</th>\n      <td>train_s10_train_q5_test_s5_test_q5</td>\n      <td>100.000000</td>\n      <td>ViT_Test</td>\n      <td>5</td>\n      <td>5</td>\n    </tr>\n    <tr>\n      <th>1</th>\n      <td>train_s15_train_q5_test_s5_test_q5</td>\n      <td>100.000000</td>\n      <td>ViT_Test</td>\n      <td>5</td>\n      <td>5</td>\n    </tr>\n    <tr>\n      <th>2</th>\n      <td>train_s5_train_q10_test_s5_test_q5</td>\n      <td>95.999999</td>\n      <td>ViT_Test</td>\n      <td>5</td>\n      <td>5</td>\n    </tr>\n    <tr>\n      <th>3</th>\n      <td>train_s5_train_q15_test_s5_test_q5</td>\n      <td>100.000000</td>\n      <td>ViT_Test</td>\n      <td>5</td>\n      <td>5</td>\n    </tr>\n    <tr>\n      <th>4</th>\n      <td>train_s5_train_q5_test_s10_test_q5</td>\n      <td>100.000000</td>\n      <td>ViT_Test</td>\n      <td>10</td>\n      <td>5</td>\n    </tr>\n    <tr>\n      <th>5</th>\n      <td>train_s5_train_q5_test_s15_test_q5</td>\n      <td>100.000000</td>\n      <td>ViT_Test</td>\n      <td>15</td>\n      <td>5</td>\n    </tr>\n    <tr>\n      <th>6</th>\n      <td>train_s5_train_q5_test_s5_test_q10</td>\n      <td>92.000000</td>\n      <td>ViT_Test</td>\n      <td>5</td>\n      <td>10</td>\n    </tr>\n    <tr>\n      <th>7</th>\n      <td>train_s5_train_q5_test_s5_test_q15</td>\n      <td>92.000000</td>\n      <td>ViT_Test</td>\n      <td>5</td>\n      <td>15</td>\n    </tr>\n    <tr>\n      <th>8</th>\n      <td>train_s5_train_q5_test_s5_test_q5</td>\n      <td>100.000000</td>\n      <td>ViT_Test</td>\n      <td>5</td>\n      <td>5</td>\n    </tr>\n  </tbody>\n</table>\n</div>"
     },
     "execution_count": 149,
     "metadata": {},
     "output_type": "execute_result"
    }
   ],
   "source": [
    "Home_ViT"
   ],
   "metadata": {
    "collapsed": false
   }
  },
  {
   "cell_type": "code",
   "execution_count": 150,
   "outputs": [],
   "source": [
    "Home_ViT_group = Home_ViT.groupby('state').apply(lambda x: pd.Series({\n",
    "    'support1': x.loc[x['type'] == 'ViT_Train', 'support'].values[0],\n",
    "    'query1': x.loc[x['type'] == 'ViT_Train', 'query'].values[0],\n",
    "    'support2': x.loc[x['type'] == 'ViT_Test', 'support'].values[0],\n",
    "    'query2': x.loc[x['type'] == 'ViT_Test', 'query'].values[0],\n",
    "})).reset_index()\n",
    "\n",
    "# 기존 데이터프레임과 합치기\n",
    "Home_ViT = pd.merge(Home_ViT, Home_ViT_group, on='state')"
   ],
   "metadata": {
    "collapsed": false
   }
  },
  {
   "cell_type": "code",
   "execution_count": 151,
   "outputs": [
    {
     "data": {
      "text/plain": "                                 state    Accuracy       type  support  query  \\\n0   train_s10_train_q5_test_s5_test_q5  100.000000  ViT_Train       10      5   \n1   train_s10_train_q5_test_s5_test_q5  100.000000   ViT_Test        5      5   \n2   train_s15_train_q5_test_s5_test_q5   99.980000  ViT_Train       15      5   \n3   train_s15_train_q5_test_s5_test_q5  100.000000   ViT_Test        5      5   \n4   train_s5_train_q10_test_s5_test_q5  100.000000  ViT_Train        5     10   \n5   train_s5_train_q10_test_s5_test_q5   95.999999   ViT_Test        5      5   \n6   train_s5_train_q15_test_s5_test_q5  100.000000  ViT_Train        5     15   \n7   train_s5_train_q15_test_s5_test_q5  100.000000   ViT_Test        5      5   \n8   train_s5_train_q5_test_s10_test_q5  100.000000  ViT_Train        5      5   \n9   train_s5_train_q5_test_s10_test_q5  100.000000   ViT_Test       10      5   \n10  train_s5_train_q5_test_s15_test_q5  100.000000  ViT_Train        5      5   \n11  train_s5_train_q5_test_s15_test_q5  100.000000   ViT_Test       15      5   \n12  train_s5_train_q5_test_s5_test_q10  100.000000  ViT_Train        5      5   \n13  train_s5_train_q5_test_s5_test_q10   92.000000   ViT_Test        5     10   \n14  train_s5_train_q5_test_s5_test_q15  100.000000  ViT_Train        5      5   \n15  train_s5_train_q5_test_s5_test_q15   92.000000   ViT_Test        5     15   \n16   train_s5_train_q5_test_s5_test_q5  100.000000  ViT_Train        5      5   \n17   train_s5_train_q5_test_s5_test_q5  100.000000   ViT_Test        5      5   \n\n    support1  query1  support2  query2  \n0         10       5         5       5  \n1         10       5         5       5  \n2         15       5         5       5  \n3         15       5         5       5  \n4          5      10         5       5  \n5          5      10         5       5  \n6          5      15         5       5  \n7          5      15         5       5  \n8          5       5        10       5  \n9          5       5        10       5  \n10         5       5        15       5  \n11         5       5        15       5  \n12         5       5         5      10  \n13         5       5         5      10  \n14         5       5         5      15  \n15         5       5         5      15  \n16         5       5         5       5  \n17         5       5         5       5  ",
      "text/html": "<div>\n<style scoped>\n    .dataframe tbody tr th:only-of-type {\n        vertical-align: middle;\n    }\n\n    .dataframe tbody tr th {\n        vertical-align: top;\n    }\n\n    .dataframe thead th {\n        text-align: right;\n    }\n</style>\n<table border=\"1\" class=\"dataframe\">\n  <thead>\n    <tr style=\"text-align: right;\">\n      <th></th>\n      <th>state</th>\n      <th>Accuracy</th>\n      <th>type</th>\n      <th>support</th>\n      <th>query</th>\n      <th>support1</th>\n      <th>query1</th>\n      <th>support2</th>\n      <th>query2</th>\n    </tr>\n  </thead>\n  <tbody>\n    <tr>\n      <th>0</th>\n      <td>train_s10_train_q5_test_s5_test_q5</td>\n      <td>100.000000</td>\n      <td>ViT_Train</td>\n      <td>10</td>\n      <td>5</td>\n      <td>10</td>\n      <td>5</td>\n      <td>5</td>\n      <td>5</td>\n    </tr>\n    <tr>\n      <th>1</th>\n      <td>train_s10_train_q5_test_s5_test_q5</td>\n      <td>100.000000</td>\n      <td>ViT_Test</td>\n      <td>5</td>\n      <td>5</td>\n      <td>10</td>\n      <td>5</td>\n      <td>5</td>\n      <td>5</td>\n    </tr>\n    <tr>\n      <th>2</th>\n      <td>train_s15_train_q5_test_s5_test_q5</td>\n      <td>99.980000</td>\n      <td>ViT_Train</td>\n      <td>15</td>\n      <td>5</td>\n      <td>15</td>\n      <td>5</td>\n      <td>5</td>\n      <td>5</td>\n    </tr>\n    <tr>\n      <th>3</th>\n      <td>train_s15_train_q5_test_s5_test_q5</td>\n      <td>100.000000</td>\n      <td>ViT_Test</td>\n      <td>5</td>\n      <td>5</td>\n      <td>15</td>\n      <td>5</td>\n      <td>5</td>\n      <td>5</td>\n    </tr>\n    <tr>\n      <th>4</th>\n      <td>train_s5_train_q10_test_s5_test_q5</td>\n      <td>100.000000</td>\n      <td>ViT_Train</td>\n      <td>5</td>\n      <td>10</td>\n      <td>5</td>\n      <td>10</td>\n      <td>5</td>\n      <td>5</td>\n    </tr>\n    <tr>\n      <th>5</th>\n      <td>train_s5_train_q10_test_s5_test_q5</td>\n      <td>95.999999</td>\n      <td>ViT_Test</td>\n      <td>5</td>\n      <td>5</td>\n      <td>5</td>\n      <td>10</td>\n      <td>5</td>\n      <td>5</td>\n    </tr>\n    <tr>\n      <th>6</th>\n      <td>train_s5_train_q15_test_s5_test_q5</td>\n      <td>100.000000</td>\n      <td>ViT_Train</td>\n      <td>5</td>\n      <td>15</td>\n      <td>5</td>\n      <td>15</td>\n      <td>5</td>\n      <td>5</td>\n    </tr>\n    <tr>\n      <th>7</th>\n      <td>train_s5_train_q15_test_s5_test_q5</td>\n      <td>100.000000</td>\n      <td>ViT_Test</td>\n      <td>5</td>\n      <td>5</td>\n      <td>5</td>\n      <td>15</td>\n      <td>5</td>\n      <td>5</td>\n    </tr>\n    <tr>\n      <th>8</th>\n      <td>train_s5_train_q5_test_s10_test_q5</td>\n      <td>100.000000</td>\n      <td>ViT_Train</td>\n      <td>5</td>\n      <td>5</td>\n      <td>5</td>\n      <td>5</td>\n      <td>10</td>\n      <td>5</td>\n    </tr>\n    <tr>\n      <th>9</th>\n      <td>train_s5_train_q5_test_s10_test_q5</td>\n      <td>100.000000</td>\n      <td>ViT_Test</td>\n      <td>10</td>\n      <td>5</td>\n      <td>5</td>\n      <td>5</td>\n      <td>10</td>\n      <td>5</td>\n    </tr>\n    <tr>\n      <th>10</th>\n      <td>train_s5_train_q5_test_s15_test_q5</td>\n      <td>100.000000</td>\n      <td>ViT_Train</td>\n      <td>5</td>\n      <td>5</td>\n      <td>5</td>\n      <td>5</td>\n      <td>15</td>\n      <td>5</td>\n    </tr>\n    <tr>\n      <th>11</th>\n      <td>train_s5_train_q5_test_s15_test_q5</td>\n      <td>100.000000</td>\n      <td>ViT_Test</td>\n      <td>15</td>\n      <td>5</td>\n      <td>5</td>\n      <td>5</td>\n      <td>15</td>\n      <td>5</td>\n    </tr>\n    <tr>\n      <th>12</th>\n      <td>train_s5_train_q5_test_s5_test_q10</td>\n      <td>100.000000</td>\n      <td>ViT_Train</td>\n      <td>5</td>\n      <td>5</td>\n      <td>5</td>\n      <td>5</td>\n      <td>5</td>\n      <td>10</td>\n    </tr>\n    <tr>\n      <th>13</th>\n      <td>train_s5_train_q5_test_s5_test_q10</td>\n      <td>92.000000</td>\n      <td>ViT_Test</td>\n      <td>5</td>\n      <td>10</td>\n      <td>5</td>\n      <td>5</td>\n      <td>5</td>\n      <td>10</td>\n    </tr>\n    <tr>\n      <th>14</th>\n      <td>train_s5_train_q5_test_s5_test_q15</td>\n      <td>100.000000</td>\n      <td>ViT_Train</td>\n      <td>5</td>\n      <td>5</td>\n      <td>5</td>\n      <td>5</td>\n      <td>5</td>\n      <td>15</td>\n    </tr>\n    <tr>\n      <th>15</th>\n      <td>train_s5_train_q5_test_s5_test_q15</td>\n      <td>92.000000</td>\n      <td>ViT_Test</td>\n      <td>5</td>\n      <td>15</td>\n      <td>5</td>\n      <td>5</td>\n      <td>5</td>\n      <td>15</td>\n    </tr>\n    <tr>\n      <th>16</th>\n      <td>train_s5_train_q5_test_s5_test_q5</td>\n      <td>100.000000</td>\n      <td>ViT_Train</td>\n      <td>5</td>\n      <td>5</td>\n      <td>5</td>\n      <td>5</td>\n      <td>5</td>\n      <td>5</td>\n    </tr>\n    <tr>\n      <th>17</th>\n      <td>train_s5_train_q5_test_s5_test_q5</td>\n      <td>100.000000</td>\n      <td>ViT_Test</td>\n      <td>5</td>\n      <td>5</td>\n      <td>5</td>\n      <td>5</td>\n      <td>5</td>\n      <td>5</td>\n    </tr>\n  </tbody>\n</table>\n</div>"
     },
     "execution_count": 151,
     "metadata": {},
     "output_type": "execute_result"
    }
   ],
   "source": [
    "Home_ViT"
   ],
   "metadata": {
    "collapsed": false
   }
  },
  {
   "cell_type": "code",
   "execution_count": 152,
   "outputs": [],
   "source": [
    "Home_ViT = Home_ViT[Home_ViT['type'] == \"ViT_Test\"]"
   ],
   "metadata": {
    "collapsed": false
   }
  },
  {
   "cell_type": "code",
   "execution_count": 153,
   "outputs": [
    {
     "data": {
      "text/plain": "                                 state    Accuracy      type  support  query  \\\n1   train_s10_train_q5_test_s5_test_q5  100.000000  ViT_Test        5      5   \n3   train_s15_train_q5_test_s5_test_q5  100.000000  ViT_Test        5      5   \n5   train_s5_train_q10_test_s5_test_q5   95.999999  ViT_Test        5      5   \n7   train_s5_train_q15_test_s5_test_q5  100.000000  ViT_Test        5      5   \n9   train_s5_train_q5_test_s10_test_q5  100.000000  ViT_Test       10      5   \n11  train_s5_train_q5_test_s15_test_q5  100.000000  ViT_Test       15      5   \n13  train_s5_train_q5_test_s5_test_q10   92.000000  ViT_Test        5     10   \n15  train_s5_train_q5_test_s5_test_q15   92.000000  ViT_Test        5     15   \n17   train_s5_train_q5_test_s5_test_q5  100.000000  ViT_Test        5      5   \n\n    support1  query1  support2  query2  \n1         10       5         5       5  \n3         15       5         5       5  \n5          5      10         5       5  \n7          5      15         5       5  \n9          5       5        10       5  \n11         5       5        15       5  \n13         5       5         5      10  \n15         5       5         5      15  \n17         5       5         5       5  ",
      "text/html": "<div>\n<style scoped>\n    .dataframe tbody tr th:only-of-type {\n        vertical-align: middle;\n    }\n\n    .dataframe tbody tr th {\n        vertical-align: top;\n    }\n\n    .dataframe thead th {\n        text-align: right;\n    }\n</style>\n<table border=\"1\" class=\"dataframe\">\n  <thead>\n    <tr style=\"text-align: right;\">\n      <th></th>\n      <th>state</th>\n      <th>Accuracy</th>\n      <th>type</th>\n      <th>support</th>\n      <th>query</th>\n      <th>support1</th>\n      <th>query1</th>\n      <th>support2</th>\n      <th>query2</th>\n    </tr>\n  </thead>\n  <tbody>\n    <tr>\n      <th>1</th>\n      <td>train_s10_train_q5_test_s5_test_q5</td>\n      <td>100.000000</td>\n      <td>ViT_Test</td>\n      <td>5</td>\n      <td>5</td>\n      <td>10</td>\n      <td>5</td>\n      <td>5</td>\n      <td>5</td>\n    </tr>\n    <tr>\n      <th>3</th>\n      <td>train_s15_train_q5_test_s5_test_q5</td>\n      <td>100.000000</td>\n      <td>ViT_Test</td>\n      <td>5</td>\n      <td>5</td>\n      <td>15</td>\n      <td>5</td>\n      <td>5</td>\n      <td>5</td>\n    </tr>\n    <tr>\n      <th>5</th>\n      <td>train_s5_train_q10_test_s5_test_q5</td>\n      <td>95.999999</td>\n      <td>ViT_Test</td>\n      <td>5</td>\n      <td>5</td>\n      <td>5</td>\n      <td>10</td>\n      <td>5</td>\n      <td>5</td>\n    </tr>\n    <tr>\n      <th>7</th>\n      <td>train_s5_train_q15_test_s5_test_q5</td>\n      <td>100.000000</td>\n      <td>ViT_Test</td>\n      <td>5</td>\n      <td>5</td>\n      <td>5</td>\n      <td>15</td>\n      <td>5</td>\n      <td>5</td>\n    </tr>\n    <tr>\n      <th>9</th>\n      <td>train_s5_train_q5_test_s10_test_q5</td>\n      <td>100.000000</td>\n      <td>ViT_Test</td>\n      <td>10</td>\n      <td>5</td>\n      <td>5</td>\n      <td>5</td>\n      <td>10</td>\n      <td>5</td>\n    </tr>\n    <tr>\n      <th>11</th>\n      <td>train_s5_train_q5_test_s15_test_q5</td>\n      <td>100.000000</td>\n      <td>ViT_Test</td>\n      <td>15</td>\n      <td>5</td>\n      <td>5</td>\n      <td>5</td>\n      <td>15</td>\n      <td>5</td>\n    </tr>\n    <tr>\n      <th>13</th>\n      <td>train_s5_train_q5_test_s5_test_q10</td>\n      <td>92.000000</td>\n      <td>ViT_Test</td>\n      <td>5</td>\n      <td>10</td>\n      <td>5</td>\n      <td>5</td>\n      <td>5</td>\n      <td>10</td>\n    </tr>\n    <tr>\n      <th>15</th>\n      <td>train_s5_train_q5_test_s5_test_q15</td>\n      <td>92.000000</td>\n      <td>ViT_Test</td>\n      <td>5</td>\n      <td>15</td>\n      <td>5</td>\n      <td>5</td>\n      <td>5</td>\n      <td>15</td>\n    </tr>\n    <tr>\n      <th>17</th>\n      <td>train_s5_train_q5_test_s5_test_q5</td>\n      <td>100.000000</td>\n      <td>ViT_Test</td>\n      <td>5</td>\n      <td>5</td>\n      <td>5</td>\n      <td>5</td>\n      <td>5</td>\n      <td>5</td>\n    </tr>\n  </tbody>\n</table>\n</div>"
     },
     "execution_count": 153,
     "metadata": {},
     "output_type": "execute_result"
    }
   ],
   "source": [
    "Home_ViT"
   ],
   "metadata": {
    "collapsed": false
   }
  },
  {
   "cell_type": "code",
   "execution_count": 154,
   "outputs": [
    {
     "name": "stderr",
     "output_type": "stream",
     "text": [
      "C:\\Users\\Owner\\AppData\\Local\\Temp\\ipykernel_24864\\3264580130.py:2: SettingWithCopyWarning: \n",
      "A value is trying to be set on a copy of a slice from a DataFrame.\n",
      "Try using .loc[row_indexer,col_indexer] = value instead\n",
      "\n",
      "See the caveats in the documentation: https://pandas.pydata.org/pandas-docs/stable/user_guide/indexing.html#returning-a-view-versus-a-copy\n",
      "  Home_ViT['label'] = combined_values\n"
     ]
    }
   ],
   "source": [
    "combined_values = ['/'.join(map(str, values)) for values in zip(Home_ViT['support1'], Home_ViT['query1'],Home_ViT['support2'], Home_ViT['query2'])]\n",
    "Home_ViT['label'] = combined_values"
   ],
   "metadata": {
    "collapsed": false
   }
  },
  {
   "cell_type": "code",
   "execution_count": 155,
   "outputs": [
    {
     "data": {
      "text/plain": "                                 state    Accuracy      type  support  query  \\\n1   train_s10_train_q5_test_s5_test_q5  100.000000  ViT_Test        5      5   \n3   train_s15_train_q5_test_s5_test_q5  100.000000  ViT_Test        5      5   \n5   train_s5_train_q10_test_s5_test_q5   95.999999  ViT_Test        5      5   \n7   train_s5_train_q15_test_s5_test_q5  100.000000  ViT_Test        5      5   \n9   train_s5_train_q5_test_s10_test_q5  100.000000  ViT_Test       10      5   \n11  train_s5_train_q5_test_s15_test_q5  100.000000  ViT_Test       15      5   \n13  train_s5_train_q5_test_s5_test_q10   92.000000  ViT_Test        5     10   \n15  train_s5_train_q5_test_s5_test_q15   92.000000  ViT_Test        5     15   \n17   train_s5_train_q5_test_s5_test_q5  100.000000  ViT_Test        5      5   \n\n    support1  query1  support2  query2     label  \n1         10       5         5       5  10/5/5/5  \n3         15       5         5       5  15/5/5/5  \n5          5      10         5       5  5/10/5/5  \n7          5      15         5       5  5/15/5/5  \n9          5       5        10       5  5/5/10/5  \n11         5       5        15       5  5/5/15/5  \n13         5       5         5      10  5/5/5/10  \n15         5       5         5      15  5/5/5/15  \n17         5       5         5       5   5/5/5/5  ",
      "text/html": "<div>\n<style scoped>\n    .dataframe tbody tr th:only-of-type {\n        vertical-align: middle;\n    }\n\n    .dataframe tbody tr th {\n        vertical-align: top;\n    }\n\n    .dataframe thead th {\n        text-align: right;\n    }\n</style>\n<table border=\"1\" class=\"dataframe\">\n  <thead>\n    <tr style=\"text-align: right;\">\n      <th></th>\n      <th>state</th>\n      <th>Accuracy</th>\n      <th>type</th>\n      <th>support</th>\n      <th>query</th>\n      <th>support1</th>\n      <th>query1</th>\n      <th>support2</th>\n      <th>query2</th>\n      <th>label</th>\n    </tr>\n  </thead>\n  <tbody>\n    <tr>\n      <th>1</th>\n      <td>train_s10_train_q5_test_s5_test_q5</td>\n      <td>100.000000</td>\n      <td>ViT_Test</td>\n      <td>5</td>\n      <td>5</td>\n      <td>10</td>\n      <td>5</td>\n      <td>5</td>\n      <td>5</td>\n      <td>10/5/5/5</td>\n    </tr>\n    <tr>\n      <th>3</th>\n      <td>train_s15_train_q5_test_s5_test_q5</td>\n      <td>100.000000</td>\n      <td>ViT_Test</td>\n      <td>5</td>\n      <td>5</td>\n      <td>15</td>\n      <td>5</td>\n      <td>5</td>\n      <td>5</td>\n      <td>15/5/5/5</td>\n    </tr>\n    <tr>\n      <th>5</th>\n      <td>train_s5_train_q10_test_s5_test_q5</td>\n      <td>95.999999</td>\n      <td>ViT_Test</td>\n      <td>5</td>\n      <td>5</td>\n      <td>5</td>\n      <td>10</td>\n      <td>5</td>\n      <td>5</td>\n      <td>5/10/5/5</td>\n    </tr>\n    <tr>\n      <th>7</th>\n      <td>train_s5_train_q15_test_s5_test_q5</td>\n      <td>100.000000</td>\n      <td>ViT_Test</td>\n      <td>5</td>\n      <td>5</td>\n      <td>5</td>\n      <td>15</td>\n      <td>5</td>\n      <td>5</td>\n      <td>5/15/5/5</td>\n    </tr>\n    <tr>\n      <th>9</th>\n      <td>train_s5_train_q5_test_s10_test_q5</td>\n      <td>100.000000</td>\n      <td>ViT_Test</td>\n      <td>10</td>\n      <td>5</td>\n      <td>5</td>\n      <td>5</td>\n      <td>10</td>\n      <td>5</td>\n      <td>5/5/10/5</td>\n    </tr>\n    <tr>\n      <th>11</th>\n      <td>train_s5_train_q5_test_s15_test_q5</td>\n      <td>100.000000</td>\n      <td>ViT_Test</td>\n      <td>15</td>\n      <td>5</td>\n      <td>5</td>\n      <td>5</td>\n      <td>15</td>\n      <td>5</td>\n      <td>5/5/15/5</td>\n    </tr>\n    <tr>\n      <th>13</th>\n      <td>train_s5_train_q5_test_s5_test_q10</td>\n      <td>92.000000</td>\n      <td>ViT_Test</td>\n      <td>5</td>\n      <td>10</td>\n      <td>5</td>\n      <td>5</td>\n      <td>5</td>\n      <td>10</td>\n      <td>5/5/5/10</td>\n    </tr>\n    <tr>\n      <th>15</th>\n      <td>train_s5_train_q5_test_s5_test_q15</td>\n      <td>92.000000</td>\n      <td>ViT_Test</td>\n      <td>5</td>\n      <td>15</td>\n      <td>5</td>\n      <td>5</td>\n      <td>5</td>\n      <td>15</td>\n      <td>5/5/5/15</td>\n    </tr>\n    <tr>\n      <th>17</th>\n      <td>train_s5_train_q5_test_s5_test_q5</td>\n      <td>100.000000</td>\n      <td>ViT_Test</td>\n      <td>5</td>\n      <td>5</td>\n      <td>5</td>\n      <td>5</td>\n      <td>5</td>\n      <td>5</td>\n      <td>5/5/5/5</td>\n    </tr>\n  </tbody>\n</table>\n</div>"
     },
     "execution_count": 155,
     "metadata": {},
     "output_type": "execute_result"
    }
   ],
   "source": [
    "Home_ViT"
   ],
   "metadata": {
    "collapsed": false
   }
  },
  {
   "cell_type": "code",
   "execution_count": 156,
   "outputs": [],
   "source": [
    "Home_ViT = Home_ViT[['state','Accuracy','type','label']]"
   ],
   "metadata": {
    "collapsed": false
   }
  },
  {
   "cell_type": "code",
   "execution_count": 157,
   "outputs": [
    {
     "data": {
      "text/plain": "                                 state    Accuracy      type     label\n1   train_s10_train_q5_test_s5_test_q5  100.000000  ViT_Test  10/5/5/5\n3   train_s15_train_q5_test_s5_test_q5  100.000000  ViT_Test  15/5/5/5\n5   train_s5_train_q10_test_s5_test_q5   95.999999  ViT_Test  5/10/5/5\n7   train_s5_train_q15_test_s5_test_q5  100.000000  ViT_Test  5/15/5/5\n9   train_s5_train_q5_test_s10_test_q5  100.000000  ViT_Test  5/5/10/5\n11  train_s5_train_q5_test_s15_test_q5  100.000000  ViT_Test  5/5/15/5\n13  train_s5_train_q5_test_s5_test_q10   92.000000  ViT_Test  5/5/5/10\n15  train_s5_train_q5_test_s5_test_q15   92.000000  ViT_Test  5/5/5/15\n17   train_s5_train_q5_test_s5_test_q5  100.000000  ViT_Test   5/5/5/5",
      "text/html": "<div>\n<style scoped>\n    .dataframe tbody tr th:only-of-type {\n        vertical-align: middle;\n    }\n\n    .dataframe tbody tr th {\n        vertical-align: top;\n    }\n\n    .dataframe thead th {\n        text-align: right;\n    }\n</style>\n<table border=\"1\" class=\"dataframe\">\n  <thead>\n    <tr style=\"text-align: right;\">\n      <th></th>\n      <th>state</th>\n      <th>Accuracy</th>\n      <th>type</th>\n      <th>label</th>\n    </tr>\n  </thead>\n  <tbody>\n    <tr>\n      <th>1</th>\n      <td>train_s10_train_q5_test_s5_test_q5</td>\n      <td>100.000000</td>\n      <td>ViT_Test</td>\n      <td>10/5/5/5</td>\n    </tr>\n    <tr>\n      <th>3</th>\n      <td>train_s15_train_q5_test_s5_test_q5</td>\n      <td>100.000000</td>\n      <td>ViT_Test</td>\n      <td>15/5/5/5</td>\n    </tr>\n    <tr>\n      <th>5</th>\n      <td>train_s5_train_q10_test_s5_test_q5</td>\n      <td>95.999999</td>\n      <td>ViT_Test</td>\n      <td>5/10/5/5</td>\n    </tr>\n    <tr>\n      <th>7</th>\n      <td>train_s5_train_q15_test_s5_test_q5</td>\n      <td>100.000000</td>\n      <td>ViT_Test</td>\n      <td>5/15/5/5</td>\n    </tr>\n    <tr>\n      <th>9</th>\n      <td>train_s5_train_q5_test_s10_test_q5</td>\n      <td>100.000000</td>\n      <td>ViT_Test</td>\n      <td>5/5/10/5</td>\n    </tr>\n    <tr>\n      <th>11</th>\n      <td>train_s5_train_q5_test_s15_test_q5</td>\n      <td>100.000000</td>\n      <td>ViT_Test</td>\n      <td>5/5/15/5</td>\n    </tr>\n    <tr>\n      <th>13</th>\n      <td>train_s5_train_q5_test_s5_test_q10</td>\n      <td>92.000000</td>\n      <td>ViT_Test</td>\n      <td>5/5/5/10</td>\n    </tr>\n    <tr>\n      <th>15</th>\n      <td>train_s5_train_q5_test_s5_test_q15</td>\n      <td>92.000000</td>\n      <td>ViT_Test</td>\n      <td>5/5/5/15</td>\n    </tr>\n    <tr>\n      <th>17</th>\n      <td>train_s5_train_q5_test_s5_test_q5</td>\n      <td>100.000000</td>\n      <td>ViT_Test</td>\n      <td>5/5/5/5</td>\n    </tr>\n  </tbody>\n</table>\n</div>"
     },
     "execution_count": 157,
     "metadata": {},
     "output_type": "execute_result"
    }
   ],
   "source": [
    "Home_ViT"
   ],
   "metadata": {
    "collapsed": false
   }
  },
  {
   "cell_type": "code",
   "execution_count": 158,
   "outputs": [
    {
     "data": {
      "text/plain": "<Figure size 640x480 with 1 Axes>",
      "image/png": "[encoded data removed]"
     },
     "metadata": {},
     "output_type": "display_data"
    }
   ],
   "source": [
    "# sns.scatterplot(data=df_supervised_ReWiS, x=\"model\", y='Test Accuracy', hue='model', style='model')\n",
    "sns.lineplot(data=Home_ViT,x ='label', y='Accuracy',hue='type',marker='o')\n",
    "# plt.legend(loc='upper left', bbox_to_anchor=(1, 1))\n",
    "plt.legend(loc='lower right', bbox_to_anchor=(1, 0))\n",
    "# x_tick_labels = ['LeNet', 'ResNet50', 'RNN', 'LSTM', 'BiLSTM', 'ViT']\n",
    "plt.ylabel('Accuracy (%)', fontsize=12, fontweight='bold')\n",
    "plt.xlabel('Support set / Query set', fontsize=12, fontweight='bold')\n",
    "plt.yticks([0, 10, 20, 30, 40, 50, 60, 70, 80, 90, 100])\n",
    "# plt.xticks(range(len(x_tick_labels)), x_tick_labels)\n",
    "plt.show()"
   ],
   "metadata": {
    "collapsed": false
   }
  },
  {
   "cell_type": "code",
   "execution_count": null,
   "outputs": [],
   "source": [],
   "metadata": {
    "collapsed": false
   }
  },
  {
   "cell_type": "code",
   "execution_count": null,
   "outputs": [],
   "source": [],
   "metadata": {
    "collapsed": false
   }
  }
 ],
 "metadata": {
  "kernelspec": {
   "display_name": "Python 3",
   "language": "python",
   "name": "python3"
  },
  "language_info": {
   "codemirror_mode": {
    "name": "ipython",
    "version": 2
   },
   "file_extension": ".py",
   "mimetype": "text/x-python",
   "name": "python",
   "nbconvert_exporter": "python",
   "pygments_lexer": "ipython2",
   "version": "2.7.6"
  }
 },
 "nbformat": 4,
 "nbformat_minor": 0
}
